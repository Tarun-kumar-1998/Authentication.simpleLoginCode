{
  "nbformat": 4,
  "nbformat_minor": 0,
  "metadata": {
    "colab": {
      "name": "NumPy Coding Assignment 1.ipynb",
      "provenance": [],
      "collapsed_sections": [
        "Eex4q4AxIdON",
        "ho2WbQgIKcWP",
        "Y_yfrD1jNV_J",
        "Vd3oNpfq2Hzw",
        "Ahr1D1FaeSGc",
        "X0GuH54eqvH4",
        "-n66-P-yUnem",
        "yi43LOz7qVGY"
      ],
      "include_colab_link": true
    },
    "kernelspec": {
      "name": "python3",
      "display_name": "Python 3"
    }
  },
  "cells": [
    {
      "cell_type": "markdown",
      "metadata": {
        "id": "view-in-github",
        "colab_type": "text"
      },
      "source": [
        "<a href=\"https://colab.research.google.com/github/Tarun-kumar-1998/Authentication.simpleLoginCode/blob/main/NumPy_Coding_Assignment_1.ipynb\" target=\"_parent\"><img src=\"https://colab.research.google.com/assets/colab-badge.svg\" alt=\"Open In Colab\"/></a>"
      ]
    },
    {
      "cell_type": "code",
      "metadata": {
        "id": "0224af72-a08e-473e-a4a7-09a3ab443bfe"
      },
      "source": [
        "import numpy as np"
      ],
      "execution_count": 1,
      "outputs": []
    },
    {
      "cell_type": "markdown",
      "metadata": {
        "id": "JAzeXh2UBn1r"
      },
      "source": [
        "### 1. Chessboard Pattern\n",
        "\n",
        "Implement the `chessboard_pattern()` function, which creates an `n x n` 2D array filled with **`1s`** in a **chessboard** pattern. \n",
        "* Array starts with value `1`, i.e. `array[0,0]` should be `1`.\n",
        "\n",
        "![checker_board_image.png](data:image/png;base64,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)\n",
        "\n",
        "**Argument**:\n",
        "**`n`**\n",
        "  * It represents the number of rows and the number of columns in a 2D numpy array\n",
        "  * A positive integer (>= 2)\n",
        "\n",
        "**Returns**:\n",
        "* A 2D numpy array of integers which is filled with **`1s`** and **`0s`** in chessboard pattern."
      ]
    },
    {
      "cell_type": "code",
      "metadata": {
        "id": "192761c7-9ec6-4cd2-aa62-2a96bead6dec"
      },
      "source": [
        "def chessboard_pattern(n):\n",
        "   mat = np.ones([n,n], int)\n",
        "   mat[0::2, 1::2] = 0\n",
        "   mat[1::2, 0::2] = 0\n",
        "   return mat\n",
        "\n",
        "   "
      ],
      "execution_count": 37,
      "outputs": []
    },
    {
      "cell_type": "code",
      "metadata": {
        "id": "nMblQ7vcEMEp",
        "outputId": "a0d124de-175c-410f-c042-0a6af482f8bb",
        "colab": {
          "base_uri": "https://localhost:8080/"
        }
      },
      "source": [
        "#SAMPLE TEST CASE\n",
        "n = 15\n",
        "array = chessboard_pattern(n)\n",
        "print(array)"
      ],
      "execution_count": 40,
      "outputs": [
        {
          "output_type": "stream",
          "text": [
            "[[1 0 1 0 1 0 1 0 1 0 1 0 1 0 1]\n",
            " [0 1 0 1 0 1 0 1 0 1 0 1 0 1 0]\n",
            " [1 0 1 0 1 0 1 0 1 0 1 0 1 0 1]\n",
            " [0 1 0 1 0 1 0 1 0 1 0 1 0 1 0]\n",
            " [1 0 1 0 1 0 1 0 1 0 1 0 1 0 1]\n",
            " [0 1 0 1 0 1 0 1 0 1 0 1 0 1 0]\n",
            " [1 0 1 0 1 0 1 0 1 0 1 0 1 0 1]\n",
            " [0 1 0 1 0 1 0 1 0 1 0 1 0 1 0]\n",
            " [1 0 1 0 1 0 1 0 1 0 1 0 1 0 1]\n",
            " [0 1 0 1 0 1 0 1 0 1 0 1 0 1 0]\n",
            " [1 0 1 0 1 0 1 0 1 0 1 0 1 0 1]\n",
            " [0 1 0 1 0 1 0 1 0 1 0 1 0 1 0]\n",
            " [1 0 1 0 1 0 1 0 1 0 1 0 1 0 1]\n",
            " [0 1 0 1 0 1 0 1 0 1 0 1 0 1 0]\n",
            " [1 0 1 0 1 0 1 0 1 0 1 0 1 0 1]]\n"
          ],
          "name": "stdout"
        }
      ]
    },
    {
      "cell_type": "markdown",
      "metadata": {
        "id": "jFvj4Q_Npubs"
      },
      "source": [
        "**Expected Output**:\n",
        "```\n",
        "[[1 0 1 0 1 0 1 0]\n",
        " [0 1 0 1 0 1 0 1]\n",
        " [1 0 1 0 1 0 1 0]\n",
        " [0 1 0 1 0 1 0 1]\n",
        " [1 0 1 0 1 0 1 0]\n",
        " [0 1 0 1 0 1 0 1]\n",
        " [1 0 1 0 1 0 1 0]\n",
        " [0 1 0 1 0 1 0 1]]\n",
        " ```"
      ]
    },
    {
      "cell_type": "markdown",
      "metadata": {
        "id": "Eex4q4AxIdON"
      },
      "source": [
        "### 2. Y Pattern\n",
        "\n",
        "Implement the `Y_pattern()` function, which creates an `n x n` 2D array filled with `**1s**` in a **Y** pattern. \n",
        "\n",
        "![y_pattern_image.png](data:image/png;base64,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)\n",
        "\n",
        "**Argument**: **`n`** \n",
        "  * It represents the number of rows and the number of columns in a 2D numpy array\n",
        "  * An odd integer (>= 3)\n",
        "\n",
        "**Returns**:\n",
        "* A 2D numpy array of integers which is filled with **`1s`** and **`0s`** in the Y pattern."
      ]
    },
    {
      "cell_type": "code",
      "metadata": {
        "id": "bc8e26b0-9f26-46e7-b33c-d8545d300ac3"
      },
      "source": [
        "def Y_pattern(n):\n",
        "   mat = np.zeros([n, n], int)\n",
        "   for i in range(n):\n",
        "       mat[i, n-1-i] = 1\n",
        "   for j in range(int(n/2)):\n",
        "     mat[j, j] = 1\n",
        "\n",
        "   return mat\n",
        "\n",
        "   "
      ],
      "execution_count": 72,
      "outputs": []
    },
    {
      "cell_type": "code",
      "metadata": {
        "id": "HZTeAYHYJWcG",
        "outputId": "95b3b285-91a6-4888-d0d2-4c681803668b",
        "colab": {
          "base_uri": "https://localhost:8080/"
        }
      },
      "source": [
        "#SAMPLE TEST CASE\n",
        "n = 12\n",
        "array = Y_pattern(n)\n",
        "print(array)"
      ],
      "execution_count": 74,
      "outputs": [
        {
          "output_type": "stream",
          "text": [
            "[[1 0 0 0 0 0 0 0 0 0 0 1]\n",
            " [0 1 0 0 0 0 0 0 0 0 1 0]\n",
            " [0 0 1 0 0 0 0 0 0 1 0 0]\n",
            " [0 0 0 1 0 0 0 0 1 0 0 0]\n",
            " [0 0 0 0 1 0 0 1 0 0 0 0]\n",
            " [0 0 0 0 0 1 1 0 0 0 0 0]\n",
            " [0 0 0 0 0 1 0 0 0 0 0 0]\n",
            " [0 0 0 0 1 0 0 0 0 0 0 0]\n",
            " [0 0 0 1 0 0 0 0 0 0 0 0]\n",
            " [0 0 1 0 0 0 0 0 0 0 0 0]\n",
            " [0 1 0 0 0 0 0 0 0 0 0 0]\n",
            " [1 0 0 0 0 0 0 0 0 0 0 0]]\n"
          ],
          "name": "stdout"
        }
      ]
    },
    {
      "cell_type": "markdown",
      "metadata": {
        "id": "M2RXUbIOp4nh"
      },
      "source": [
        "**Expected Output**:\n",
        "```\n",
        "[[1 0 0 0 1]\n",
        " [0 1 0 1 0]\n",
        " [0 0 1 0 0]\n",
        " [0 1 0 0 0]\n",
        " [1 0 0 0 0]]\n",
        "```"
      ]
    },
    {
      "cell_type": "markdown",
      "metadata": {
        "id": "ho2WbQgIKcWP"
      },
      "source": [
        "### 3. T Pattern\n",
        "\n",
        "Implement the `T_pattern()` function, which creates a `num_rows x num_cols` 2D array with ones filled in a **T** pattern. \n",
        "\n",
        "![T_pattern_image.png](data:image/png;base64,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)\n",
        "\n",
        "**Arguments**:\n",
        "\n",
        "* **`num_rows`** \n",
        "  * It represents the number of rows in the 2D numpy array\n",
        "  * An integer (>= 3)\n",
        "\n",
        "* **`num_cols`** \n",
        "  * It represents the number of columns in the 2D numpy array\n",
        "  * An odd integer (>= 3)\n",
        "\n",
        "**Returns**:\n",
        "* A 2D numpy array of integers which is filled with **`1s`** and **`0s`** in the T pattern."
      ]
    },
    {
      "cell_type": "code",
      "metadata": {
        "id": "c0f0169a-e9bb-4473-b47a-68424fce737e"
      },
      "source": [
        "def T_pattern(num_rows, num_cols):\n",
        "   mat = np.zeros([num_rows, num_cols], int)\n",
        "   mat[0] = 1\n",
        "   mat[0:, int(num_cols/2)] = 1\n",
        "   return mat\n",
        "    \n",
        "\n",
        "   "
      ],
      "execution_count": 89,
      "outputs": []
    },
    {
      "cell_type": "code",
      "metadata": {
        "id": "JJTdy41xMC6E",
        "outputId": "5f9df012-463e-4241-867d-e441b3020e74",
        "colab": {
          "base_uri": "https://localhost:8080/"
        }
      },
      "source": [
        "# SAMPLE TEST CASE\n",
        "num_rows = 19\n",
        "num_cols = 17\n",
        "array = T_pattern(num_rows, num_cols)\n",
        "print(array)"
      ],
      "execution_count": 92,
      "outputs": [
        {
          "output_type": "stream",
          "text": [
            "8\n",
            "[[1 1 1 1 1 1 1 1 1 1 1 1 1 1 1 1 1]\n",
            " [0 0 0 0 0 0 0 0 1 0 0 0 0 0 0 0 0]\n",
            " [0 0 0 0 0 0 0 0 1 0 0 0 0 0 0 0 0]\n",
            " [0 0 0 0 0 0 0 0 1 0 0 0 0 0 0 0 0]\n",
            " [0 0 0 0 0 0 0 0 1 0 0 0 0 0 0 0 0]\n",
            " [0 0 0 0 0 0 0 0 1 0 0 0 0 0 0 0 0]\n",
            " [0 0 0 0 0 0 0 0 1 0 0 0 0 0 0 0 0]\n",
            " [0 0 0 0 0 0 0 0 1 0 0 0 0 0 0 0 0]\n",
            " [0 0 0 0 0 0 0 0 1 0 0 0 0 0 0 0 0]\n",
            " [0 0 0 0 0 0 0 0 1 0 0 0 0 0 0 0 0]\n",
            " [0 0 0 0 0 0 0 0 1 0 0 0 0 0 0 0 0]\n",
            " [0 0 0 0 0 0 0 0 1 0 0 0 0 0 0 0 0]\n",
            " [0 0 0 0 0 0 0 0 1 0 0 0 0 0 0 0 0]\n",
            " [0 0 0 0 0 0 0 0 1 0 0 0 0 0 0 0 0]\n",
            " [0 0 0 0 0 0 0 0 1 0 0 0 0 0 0 0 0]\n",
            " [0 0 0 0 0 0 0 0 1 0 0 0 0 0 0 0 0]\n",
            " [0 0 0 0 0 0 0 0 1 0 0 0 0 0 0 0 0]\n",
            " [0 0 0 0 0 0 0 0 1 0 0 0 0 0 0 0 0]\n",
            " [0 0 0 0 0 0 0 0 1 0 0 0 0 0 0 0 0]]\n"
          ],
          "name": "stdout"
        }
      ]
    },
    {
      "cell_type": "markdown",
      "metadata": {
        "id": "5QMX95Mxpw4U"
      },
      "source": [
        " **Expected Output**:\n",
        "```\n",
        "[[1 1 1 1 1]\n",
        " [0 0 1 0 0]\n",
        " [0 0 1 0 0]\n",
        " [0 0 1 0 0]\n",
        " [0 0 1 0 0]]\n",
        "```"
      ]
    },
    {
      "cell_type": "markdown",
      "metadata": {
        "id": "Y_yfrD1jNV_J"
      },
      "source": [
        "### 4. Closed Pattern\n",
        "\n",
        "Implement the `closed_pattern()` function, which creates a `num_rows x num_cols` 2D array with ones filled in a **Closed** pattern. \n",
        "\n",
        "![closed_pattern_image.png](data:image/png;base64,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)\n",
        "\n",
        "**Arguments**:\n",
        "\n",
        "* **`num_rows`** \n",
        "  * It represents number of rows in a 2D numpy array\n",
        "  * An integer (>= 3)\n",
        "\n",
        "* **`num_cols`** \n",
        "  * It represents number of columns in a 2D numpy array\n",
        "  * An integer (>= 3)\n",
        "\n",
        "**Returns**:\n",
        "* A 2D numpy array of integers which is filled with **`1s`** and **`0s`**."
      ]
    },
    {
      "cell_type": "code",
      "metadata": {
        "id": "9e2b863a-8b74-40e9-b54d-2df5a120631b"
      },
      "source": [
        "def closed_pattern(num_rows, num_cols):\n",
        "  mat = np.zeros([num_rows, num_cols], int)\n",
        "  mat[0] = 1 \n",
        "  mat[0:, 0::num_cols-1] = 1\n",
        "  mat[num_rows-1] = 1\n",
        "  return mat "
      ],
      "execution_count": 113,
      "outputs": []
    },
    {
      "cell_type": "code",
      "metadata": {
        "id": "R36zIletOI7d",
        "outputId": "e1e2084d-6f95-4df9-b5c1-b5454f8017ad",
        "colab": {
          "base_uri": "https://localhost:8080/"
        }
      },
      "source": [
        "#SAMPLE TEST CASE\n",
        "num_rows = 9\n",
        "num_cols = 12\n",
        "array = closed_pattern(num_rows, num_cols)\n",
        "print(array)"
      ],
      "execution_count": 114,
      "outputs": [
        {
          "output_type": "stream",
          "text": [
            "[[1 1 1 1 1 1 1 1 1 1 1 1]\n",
            " [1 0 0 0 0 0 0 0 0 0 0 1]\n",
            " [1 0 0 0 0 0 0 0 0 0 0 1]\n",
            " [1 0 0 0 0 0 0 0 0 0 0 1]\n",
            " [1 0 0 0 0 0 0 0 0 0 0 1]\n",
            " [1 0 0 0 0 0 0 0 0 0 0 1]\n",
            " [1 0 0 0 0 0 0 0 0 0 0 1]\n",
            " [1 0 0 0 0 0 0 0 0 0 0 1]\n",
            " [1 1 1 1 1 1 1 1 1 1 1 1]]\n"
          ],
          "name": "stdout"
        }
      ]
    },
    {
      "cell_type": "markdown",
      "metadata": {
        "id": "UO1gYeYKpy4y"
      },
      "source": [
        " **Expected Output**:\n",
        "```\n",
        "[[1 1 1 1 1]\n",
        " [1 0 0 0 1]\n",
        " [1 0 0 0 1]\n",
        " [1 0 0 0 1]\n",
        " [1 1 1 1 1]]\n",
        "```"
      ]
    },
    {
      "cell_type": "markdown",
      "metadata": {
        "id": "7KNh4prGPO86"
      },
      "source": [
        "### 5. Plus Pattern\n",
        "\n",
        "Implement the `plus_pattern()` function, which creates a `num_rows x num_cols` 2D array with ones filled in a **Plus** pattern. \n",
        "\n",
        "![plus_pattern_image.png](data:image/png;base64,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)\n",
        "\n",
        "**Arguments**:\n",
        "* **`n`** \n",
        "  * It represents number of rows and number of columns in a 2D numpy array\n",
        "  * An odd integer (>= 3)\n",
        "\n",
        "**Returns**:\n",
        "* A 2D numpy array of integers which is filled with **`1s`** and **`0s`**."
      ]
    },
    {
      "cell_type": "code",
      "metadata": {
        "id": "e3792556-e9fb-4e1b-a3a6-a39e5ec37272"
      },
      "source": [
        "def plus_pattern(n):\n",
        "  mat = np.zeros([n,n], int)\n",
        "  mat[int(n/2)] = 1\n",
        "  mat[0::, int(n/2)] = 1\n",
        "  return mat  "
      ],
      "execution_count": 117,
      "outputs": []
    },
    {
      "cell_type": "code",
      "metadata": {
        "id": "NzE9-ty_PzUl",
        "outputId": "5ba00729-121c-44dc-adce-6be463bfb9fe",
        "colab": {
          "base_uri": "https://localhost:8080/"
        }
      },
      "source": [
        "#SAMPLE TEST CASE\n",
        "n = 7\n",
        "array = plus_pattern(n)\n",
        "print(array)"
      ],
      "execution_count": 118,
      "outputs": [
        {
          "output_type": "stream",
          "text": [
            "[[0 0 0 1 0 0 0]\n",
            " [0 0 0 1 0 0 0]\n",
            " [0 0 0 1 0 0 0]\n",
            " [1 1 1 1 1 1 1]\n",
            " [0 0 0 1 0 0 0]\n",
            " [0 0 0 1 0 0 0]\n",
            " [0 0 0 1 0 0 0]]\n"
          ],
          "name": "stdout"
        }
      ]
    },
    {
      "cell_type": "markdown",
      "metadata": {
        "id": "dmHsLlpzp03W"
      },
      "source": [
        " **Expected Output**:\n",
        "```\n",
        "[[0 0 1 0 0]\n",
        " [0 0 1 0 0]\n",
        " [1 1 1 1 1]\n",
        " [0 0 1 0 0]\n",
        " [0 0 1 0 0]]\n",
        "```\n"
      ]
    },
    {
      "cell_type": "markdown",
      "metadata": {
        "id": "Vd3oNpfq2Hzw"
      },
      "source": [
        "### 6. Standardization\n",
        "\n",
        "Implement the `standardize()` function, which subtracts the mean of the each column from all the elements of that column in the array, and then divides it by standard deviation of that column. i.e,\n",
        "\n",
        "$$\\frac{X - mean(X)}{std(X)}$$ \n",
        "\n",
        "$$\\text{ where $\\textit{'X'}$ is a column of the array.}$$\n",
        "\n",
        "\n",
        "**Arguments**:\n",
        "* **`array_2D`** : A 2D numpy array of floats\n",
        "\n",
        "\n",
        "**Returns**:\n",
        "* A 2D numpy array of floats\n",
        "\n",
        "**Hint**\n",
        "* Use `np.mean()` to find the mean and `np.std()` to find the standard deviation.\n",
        "* Make sure to use the appropriate axis argument."
      ]
    },
    {
      "cell_type": "code",
      "metadata": {
        "id": "3f52b813-00a8-46a5-bb04-6369b6eb653a"
      },
      "source": [
        "def standardize(array_2D):\n",
        "  mat = array_2D\n",
        "  for i in range(len(array_2D[0])):\n",
        "    mean = np.mean(array_2D[0:, i])\n",
        "    std = np.std(array_2D[0:, i])\n",
        "    for j in range(len(array_2D)):\n",
        "      mat [j][i] = (array_2D[j][i] - mean)/std\n",
        "  return mat\n",
        "    "
      ],
      "execution_count": 192,
      "outputs": []
    },
    {
      "cell_type": "code",
      "metadata": {
        "id": "A9JBDWyT3i1D",
        "outputId": "c2797d2f-121a-4729-cd17-6d58b1aded29",
        "colab": {
          "base_uri": "https://localhost:8080/"
        }
      },
      "source": [
        "#SAMPLE TEST CASE\n",
        "array_2D = np.array([[2.0, 4.1, -7.1],\n",
        "                    [1.3, 5.4, 2.2],\n",
        "                    [-3.2, -1.3, 6.1],\n",
        "                    [1.2, 3.4, 5.2]])\n",
        "\n",
        "result = standardize(array_2D)\n",
        "result = np.round(result, 3)\n",
        "print(result)"
      ],
      "execution_count": 194,
      "outputs": [
        {
          "output_type": "stream",
          "text": [
            "[[ 0.814  0.475 -1.665]\n",
            " [ 0.474  0.989  0.115]\n",
            " [-1.713 -1.661  0.861]\n",
            " [ 0.425  0.198  0.689]]\n"
          ],
          "name": "stdout"
        }
      ]
    },
    {
      "cell_type": "markdown",
      "metadata": {
        "id": "ECXNECQU32OY"
      },
      "source": [
        "**Expected Output**:\n",
        "```\n",
        "[[ 0.814  0.475 -1.665]\n",
        " [ 0.474  0.989  0.115]\n",
        " [-1.713 -1.661  0.861]\n",
        " [ 0.425  0.198  0.689]]\n",
        "```"
      ]
    },
    {
      "cell_type": "markdown",
      "metadata": {
        "id": "4obzcYOl4qrT"
      },
      "source": [
        "### 7. Normalisation\n",
        "\n",
        "Implement the `normalise()` function, which subtracts the mean of each column from all the elements of that column in the array and then divides each element of a column with the difference of maximum and minimum elements of that column. i.e,\n",
        "\n",
        "$$\\frac{X - mean(X)}{max(X) - min(X)}$$\n",
        "\n",
        "$$\\text{where $\\textit{X}$ is a column of the array}$$\n",
        "\n",
        "**Arguments**:\n",
        "* **`array_2D`** : A 2D numpy array of floats.\n",
        "\n",
        "\n",
        "**Returns**:\n",
        "* A 2D numpy array of floats.\n",
        "\n",
        "**Hint**:\n",
        "* Use `np.mean()` to find mean, `np.min()` to find minimum value and `np.max()` to find maximum value of a column.\n",
        "* Make sure to use the appropriate axis argument."
      ]
    },
    {
      "cell_type": "code",
      "metadata": {
        "id": "fc79e53a-ad92-4acd-828b-6c8d95a8a29d"
      },
      "source": [
        "def normalise(array_2D):\n",
        "  for i in range(len(array_2D[0])):\n",
        "    mean = np.mean(array_2D[0:, i])\n",
        "    min = np.min(array_2D[0:, i])\n",
        "    max = np.max(array_2D[0:, i])\n",
        "    for j in range(len(array_2D)):\n",
        "      array_2D[j][i] = (array_2D[j][i]-mean)/(max-min)\n",
        "  return array_2D\n",
        "\n",
        "   "
      ],
      "execution_count": 197,
      "outputs": []
    },
    {
      "cell_type": "code",
      "metadata": {
        "id": "kkZMmjTx5F6B",
        "outputId": "c0118796-1836-4e65-813a-2053c8d871eb",
        "colab": {
          "base_uri": "https://localhost:8080/"
        }
      },
      "source": [
        "#SAMPLE TEST CASE\n",
        "array_2D = np.array([[2.0, 4.1, -7.1],\n",
        "                    [1.3, 5.4, 2.2],\n",
        "                    [-3.2, -1.3, 6.1],\n",
        "                    [1.2, 3.4, 5.2]])\n",
        "\n",
        "result = normalise(array_2D)\n",
        "result = np.round(result, 3)\n",
        "print(result)"
      ],
      "execution_count": 198,
      "outputs": [
        {
          "output_type": "stream",
          "text": [
            "[[ 0.322  0.179 -0.659]\n",
            " [ 0.188  0.373  0.045]\n",
            " [-0.678 -0.627  0.341]\n",
            " [ 0.168  0.075  0.273]]\n"
          ],
          "name": "stdout"
        }
      ]
    },
    {
      "cell_type": "markdown",
      "metadata": {
        "id": "aQvpu7eV5MON"
      },
      "source": [
        "**Expected Output**:\n",
        "```\n",
        "[[ 0.322  0.179 -0.659]\n",
        " [ 0.188  0.373  0.045]\n",
        " [-0.678 -0.627  0.341]\n",
        " [ 0.168  0.075  0.273]]\n",
        "```"
      ]
    },
    {
      "cell_type": "code",
      "metadata": {
        "id": "3abe14a0-9da2-467c-90b9-c0d6fb4d1ade"
      },
      "source": [
        "def minkowski_distance_between_two_images(image_1, image_2, n):\n",
        "  a = 0\n",
        "  for i in range(len(image_1)):\n",
        "    for j in range(len(image_1)):\n",
        "      for j in range(len(image_2)):\n",
        "        \n"
      ],
      "execution_count": 207,
      "outputs": []
    },
    {
      "cell_type": "code",
      "metadata": {
        "id": "Syck22SC5XLR",
        "outputId": "a4b475c3-210f-43f6-be4e-4bb85f0b2599",
        "colab": {
          "base_uri": "https://localhost:8080/",
          "height": 342
        }
      },
      "source": [
        "#SAMPLE TEST CASE\n",
        "image_1 = np.array([[[ 44,  26, 138],\n",
        "                    [ 62, 115, 246],\n",
        "                    [227,  82,   4],\n",
        "                    [235, 182, 107]],\n",
        "\n",
        "                  [[ 48,  94, 151],\n",
        "                    [ 70,  50,  30],\n",
        "                    [224, 175, 108],\n",
        "                    [ 14,  25, 175]],\n",
        "\n",
        "                  [[243, 133,  73],\n",
        "                    [201, 204, 149],\n",
        "                    [122,  60,   6],\n",
        "                    [244, 113, 202]],\n",
        "\n",
        "                  [[116,  27, 195],\n",
        "                    [ 42, 105,  16],\n",
        "                    [182, 252, 145],\n",
        "                    [198, 131,  95]]])\n",
        "\n",
        "image_2 = np.array([[[ 31,  87, 192],\n",
        "                    [ 69, 240,  64],\n",
        "                    [244,  71, 189],\n",
        "                    [ 21,  92,  78]],\n",
        "\n",
        "                    [[ 59, 206, 133],\n",
        "                    [188, 174,   8],\n",
        "                    [148, 220, 254],\n",
        "                    [181, 173,  94]],\n",
        "\n",
        "                    [[187,  26, 249],\n",
        "                    [ 32, 241, 122],\n",
        "                    [221, 229, 208],\n",
        "                    [252,  89, 246]],\n",
        "\n",
        "                    [[ 24, 131,  60],\n",
        "                    [131,  70, 164],\n",
        "                    [ 60, 128,  14],\n",
        "                    [178,  79,  37]]])\n",
        "n = 3\n",
        "\n",
        "\n",
        "minkowski_distance = minkowski_distance_between_two_images(image_1, image_2, n)\n",
        "minkowski_distance = np.round(minkowski_distance, 3)\n",
        "\n",
        "print(minkowski_distance)"
      ],
      "execution_count": 208,
      "outputs": [
        {
          "output_type": "error",
          "ename": "IndexError",
          "evalue": "ignored",
          "traceback": [
            "\u001b[0;31m---------------------------------------------------------------------------\u001b[0m",
            "\u001b[0;31mIndexError\u001b[0m                                Traceback (most recent call last)",
            "\u001b[0;32m<ipython-input-208-6a11aafcdeaa>\u001b[0m in \u001b[0;36m<module>\u001b[0;34m()\u001b[0m\n\u001b[1;32m     42\u001b[0m \u001b[0;34m\u001b[0m\u001b[0m\n\u001b[1;32m     43\u001b[0m \u001b[0;34m\u001b[0m\u001b[0m\n\u001b[0;32m---> 44\u001b[0;31m \u001b[0mminkowski_distance\u001b[0m \u001b[0;34m=\u001b[0m \u001b[0mminkowski_distance_between_two_images\u001b[0m\u001b[0;34m(\u001b[0m\u001b[0mimage_1\u001b[0m\u001b[0;34m,\u001b[0m \u001b[0mimage_2\u001b[0m\u001b[0;34m,\u001b[0m \u001b[0mn\u001b[0m\u001b[0;34m)\u001b[0m\u001b[0;34m\u001b[0m\u001b[0;34m\u001b[0m\u001b[0m\n\u001b[0m\u001b[1;32m     45\u001b[0m \u001b[0mminkowski_distance\u001b[0m \u001b[0;34m=\u001b[0m \u001b[0mnp\u001b[0m\u001b[0;34m.\u001b[0m\u001b[0mround\u001b[0m\u001b[0;34m(\u001b[0m\u001b[0mminkowski_distance\u001b[0m\u001b[0;34m,\u001b[0m \u001b[0;36m3\u001b[0m\u001b[0;34m)\u001b[0m\u001b[0;34m\u001b[0m\u001b[0;34m\u001b[0m\u001b[0m\n\u001b[1;32m     46\u001b[0m \u001b[0;34m\u001b[0m\u001b[0m\n",
            "\u001b[0;32m<ipython-input-207-3d75238ffbb3>\u001b[0m in \u001b[0;36mminkowski_distance_between_two_images\u001b[0;34m(image_1, image_2, n)\u001b[0m\n\u001b[1;32m      8\u001b[0m     \u001b[0;32mfor\u001b[0m \u001b[0mj\u001b[0m \u001b[0;32min\u001b[0m \u001b[0mrange\u001b[0m\u001b[0;34m(\u001b[0m\u001b[0mlen\u001b[0m\u001b[0;34m(\u001b[0m\u001b[0mimage_1\u001b[0m\u001b[0;34m)\u001b[0m\u001b[0;34m)\u001b[0m\u001b[0;34m:\u001b[0m\u001b[0;34m\u001b[0m\u001b[0;34m\u001b[0m\u001b[0m\n\u001b[1;32m      9\u001b[0m       \u001b[0;32mfor\u001b[0m \u001b[0mk\u001b[0m \u001b[0;32min\u001b[0m \u001b[0mrange\u001b[0m\u001b[0;34m(\u001b[0m\u001b[0mlen\u001b[0m\u001b[0;34m(\u001b[0m\u001b[0mimage_2\u001b[0m\u001b[0;34m)\u001b[0m\u001b[0;34m)\u001b[0m\u001b[0;34m:\u001b[0m\u001b[0;34m\u001b[0m\u001b[0;34m\u001b[0m\u001b[0m\n\u001b[0;32m---> 10\u001b[0;31m         \u001b[0ma\u001b[0m \u001b[0;34m+=\u001b[0m \u001b[0;34m(\u001b[0m\u001b[0mp_root\u001b[0m\u001b[0;34m(\u001b[0m\u001b[0mpow\u001b[0m\u001b[0;34m(\u001b[0m\u001b[0mabs\u001b[0m\u001b[0;34m(\u001b[0m\u001b[0mimage_1\u001b[0m\u001b[0;34m[\u001b[0m\u001b[0mi\u001b[0m\u001b[0;34m]\u001b[0m\u001b[0;34m[\u001b[0m\u001b[0mj\u001b[0m\u001b[0;34m]\u001b[0m\u001b[0;34m[\u001b[0m\u001b[0mk\u001b[0m\u001b[0;34m]\u001b[0m \u001b[0;34m-\u001b[0m\u001b[0mimage_2\u001b[0m\u001b[0;34m[\u001b[0m\u001b[0mi\u001b[0m\u001b[0;34m]\u001b[0m\u001b[0;34m[\u001b[0m\u001b[0mj\u001b[0m\u001b[0;34m]\u001b[0m\u001b[0;34m[\u001b[0m\u001b[0mk\u001b[0m\u001b[0;34m]\u001b[0m\u001b[0;34m)\u001b[0m\u001b[0;34m,\u001b[0m \u001b[0mn\u001b[0m\u001b[0;34m)\u001b[0m\u001b[0;34m,\u001b[0m\u001b[0mn\u001b[0m\u001b[0;34m)\u001b[0m\u001b[0;34m)\u001b[0m\u001b[0;34m\u001b[0m\u001b[0;34m\u001b[0m\u001b[0m\n\u001b[0m\u001b[1;32m     11\u001b[0m   \u001b[0;32mreturn\u001b[0m \u001b[0ma\u001b[0m\u001b[0;34m\u001b[0m\u001b[0;34m\u001b[0m\u001b[0m\n",
            "\u001b[0;31mIndexError\u001b[0m: index 3 is out of bounds for axis 0 with size 3"
          ]
        }
      ]
    },
    {
      "cell_type": "markdown",
      "metadata": {
        "id": "emCuqKQJ8xK-"
      },
      "source": [
        "**Expected Output**:\n",
        "```\n",
        "208.569\n",
        "```"
      ]
    },
    {
      "cell_type": "markdown",
      "metadata": {
        "id": "X0GuH54eqvH4"
      },
      "source": [
        "## [DON'T EDIT] Submission Evaluation Utilities"
      ]
    },
    {
      "cell_type": "markdown",
      "metadata": {
        "id": "-n66-P-yUnem"
      },
      "source": [
        "### Scan Utils [DON'T EDIT]"
      ]
    },
    {
      "cell_type": "code",
      "metadata": {
        "id": "1a5b77e0-2a48-446d-accc-f96cf7a9be9c"
      },
      "source": [
        "#@title\n",
        "def scan_2D_int_numpy_array():\n",
        "    num_rows = int(input('num_of_rows:'))\n",
        "    array_2D = []\n",
        "    for i in range(0, num_rows):\n",
        "        row_i = [int(col) for col in input().split()]\n",
        "        array_2D.append(row_i)\n",
        "    array_2D = np.array(array_2D)\n",
        "    return array_2D\n",
        "\n",
        "def scan_3D_int_numpy_array():\n",
        "    num_2d_arrays = int(input('num_of_2d_arrays:'))\n",
        "    num_rows = int(input('num_of_rows:'))\n",
        "    array_3D = []\n",
        "    for j in range(0, num_2d_arrays):\n",
        "      array_2D = []\n",
        "      for i in range(0, num_rows):\n",
        "          row_i = [int(col) for col in input().split()]\n",
        "          array_2D.append(row_i)\n",
        "      array_2D = np.array(array_2D)\n",
        "    array_3D.append(array_2D)\n",
        "    \n",
        "    array_3D = np.array(array_3D)\n",
        "    return array_3D\n",
        "\n",
        "def scan_2D_float_numpy_array():\n",
        "    num_rows = int(input())\n",
        "    array_2D = []\n",
        "    for i in range(0, num_rows):\n",
        "        row_i = [float(col) for col in input().split()]\n",
        "        array_2D.append(row_i)\n",
        "    array_2D = np.array(array_2D)\n",
        "    return array_2D"
      ],
      "execution_count": null,
      "outputs": []
    },
    {
      "cell_type": "markdown",
      "metadata": {
        "id": "yi43LOz7qVGY"
      },
      "source": [
        "### Evaluation Utils [DON'T EDIT]"
      ]
    },
    {
      "cell_type": "code",
      "metadata": {
        "id": "b12ae1ce-0bbc-4d17-ac1e-a5bc31a03cec",
        "cellView": "form"
      },
      "source": [
        "#@title\n",
        "if __name__ == '__main__':\n",
        "    n = int(input())\n",
        "    array_2d = chessboard_pattern(n)\n",
        "    for row in array_2d:\n",
        "        print(*row)"
      ],
      "execution_count": null,
      "outputs": []
    },
    {
      "cell_type": "code",
      "metadata": {
        "id": "667cc544-2b65-4b64-91db-ddd504da8dc4",
        "cellView": "form"
      },
      "source": [
        "#@title\n",
        "if __name__ == '__main__':\n",
        "    n = int(input())\n",
        "    array_2d = Y_pattern(n)\n",
        "    for row in array_2d:\n",
        "        print(*row)"
      ],
      "execution_count": null,
      "outputs": []
    },
    {
      "cell_type": "code",
      "metadata": {
        "id": "7ff54331-124c-43ee-a605-cf41dcb9a313",
        "cellView": "form"
      },
      "source": [
        "#@title\n",
        "if __name__ == '__main__':\n",
        "    num_rows = int(input())\n",
        "    num_cols = int(input())\n",
        "    array_2d = T_pattern(num_rows, num_cols)\n",
        "    for row in array_2d:\n",
        "        print(*row)"
      ],
      "execution_count": null,
      "outputs": []
    },
    {
      "cell_type": "code",
      "metadata": {
        "id": "41e1d441-e30f-49f4-a1ee-91a692fa8f35",
        "cellView": "form"
      },
      "source": [
        "#@title\n",
        "if __name__ == '__main__':\n",
        "    num_rows = int(input())\n",
        "    num_cols = int(input())\n",
        "    array_2d = closed_pattern(num_rows, num_cols)\n",
        "    for row in array_2d:\n",
        "        print(*row)"
      ],
      "execution_count": null,
      "outputs": []
    },
    {
      "cell_type": "code",
      "metadata": {
        "id": "ab5afde7-94c7-4541-9bb8-8c7f2ac1499b",
        "cellView": "form"
      },
      "source": [
        "#@title\n",
        "if __name__ == '__main__':\n",
        "    n = int(input())\n",
        "    array_2d = plus_pattern(n)\n",
        "    for row in array_2d:\n",
        "        print(*row)"
      ],
      "execution_count": null,
      "outputs": []
    },
    {
      "cell_type": "code",
      "metadata": {
        "id": "cfecf5d8-a8fb-42ac-8b6d-f987ad1010c6",
        "cellView": "form"
      },
      "source": [
        "#@title\n",
        "if __name__ == '__main__':\n",
        "    array_2D = scan_2D_float_numpy_array()\n",
        "\n",
        "    result = standardize(array_2D)\n",
        "    result = np.round(result, 3)\n",
        "    for row in result:\n",
        "        print (*row)"
      ],
      "execution_count": null,
      "outputs": []
    },
    {
      "cell_type": "code",
      "metadata": {
        "id": "73b333d1-8888-4d2a-ba4c-d090c68c9657",
        "cellView": "form"
      },
      "source": [
        "#@title\n",
        "if __name__ == '__main__':\n",
        "    array_2D = scan_2D_float_numpy_array()\n",
        "\n",
        "    result = normalise(array_2D)\n",
        "    result = np.round(result, 3)\n",
        "    for row in result:\n",
        "        print (*row)"
      ],
      "execution_count": null,
      "outputs": []
    },
    {
      "cell_type": "code",
      "metadata": {
        "id": "98ec507f-e5ad-4965-867a-d857b17371e3",
        "cellView": "form"
      },
      "source": [
        "#@title\n",
        "if __name__ == '__main__':\n",
        "    image_1 = scan_3D_int_numpy_array()\n",
        "    image_2 = scan_3D_int_numpy_array()\n",
        "    n = int(input('n: '))\n",
        "    \n",
        "    minkowski_distance = minkowski_distance_between_two_images(image_1, image_2, n)\n",
        "    minkowski_distance = np.round(minkowski_distance, 3)\n",
        "    print(minkowski_distance)"
      ],
      "execution_count": null,
      "outputs": []
    }
  ]
}